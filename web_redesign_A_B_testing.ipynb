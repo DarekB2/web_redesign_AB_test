{
 "cells": [
  {
   "cell_type": "markdown",
   "id": "9a9ada08-c9f0-466f-91a0-265fa539f9f5",
   "metadata": {},
   "source": [
    "## Which version of the website should you use?\n",
    "\n",
    "The team of early-stage startup in Germany has been working on a redesign of the landing page. They believe a new design will increase the number of people who click through and join the site. \n",
    "\n",
    "They have been testing the changes for a few weeks and now they want to measure the impact of the change and need to determine if the increase can be due to random chance or if it is statistically significant."
   ]
  },
  {
   "cell_type": "markdown",
   "id": "10dcc269-3659-4851-99cd-f1ffb7f818aa",
   "metadata": {
    "tags": []
   },
   "source": [
    "## 💾 The data\n",
    "The team assembled the following file:\n",
    "\n",
    "#### Redesign test data\n",
    "- \"treatment\" - \"yes\" if the user saw the new version of the landing page, no otherwise.\n",
    "- \"new_images\" - \"yes\" if the page used a new set of images, no otherwise.\n",
    "- \"converted\" - 1 if the user joined the site, 0 otherwise.\n",
    "\n",
    "The control group is those users with \"no\" in both columns: the old version with the old set of images."
   ]
  },
  {
   "cell_type": "code",
   "execution_count": 2,
   "id": "40251159-3eea-47f8-bfb4-09e38d5ced65",
   "metadata": {},
   "outputs": [
    {
     "data": {
      "text/html": [
       "<div>\n",
       "<style scoped>\n",
       "    .dataframe tbody tr th:only-of-type {\n",
       "        vertical-align: middle;\n",
       "    }\n",
       "\n",
       "    .dataframe tbody tr th {\n",
       "        vertical-align: top;\n",
       "    }\n",
       "\n",
       "    .dataframe thead th {\n",
       "        text-align: right;\n",
       "    }\n",
       "</style>\n",
       "<table border=\"1\" class=\"dataframe\">\n",
       "  <thead>\n",
       "    <tr style=\"text-align: right;\">\n",
       "      <th></th>\n",
       "      <th>treatment</th>\n",
       "      <th>new_images</th>\n",
       "      <th>converted</th>\n",
       "    </tr>\n",
       "  </thead>\n",
       "  <tbody>\n",
       "    <tr>\n",
       "      <th>0</th>\n",
       "      <td>yes</td>\n",
       "      <td>yes</td>\n",
       "      <td>0</td>\n",
       "    </tr>\n",
       "    <tr>\n",
       "      <th>1</th>\n",
       "      <td>yes</td>\n",
       "      <td>yes</td>\n",
       "      <td>0</td>\n",
       "    </tr>\n",
       "    <tr>\n",
       "      <th>2</th>\n",
       "      <td>yes</td>\n",
       "      <td>yes</td>\n",
       "      <td>0</td>\n",
       "    </tr>\n",
       "    <tr>\n",
       "      <th>3</th>\n",
       "      <td>yes</td>\n",
       "      <td>no</td>\n",
       "      <td>0</td>\n",
       "    </tr>\n",
       "    <tr>\n",
       "      <th>4</th>\n",
       "      <td>no</td>\n",
       "      <td>yes</td>\n",
       "      <td>0</td>\n",
       "    </tr>\n",
       "  </tbody>\n",
       "</table>\n",
       "</div>"
      ],
      "text/plain": [
       "  treatment new_images  converted\n",
       "0       yes        yes          0\n",
       "1       yes        yes          0\n",
       "2       yes        yes          0\n",
       "3       yes         no          0\n",
       "4        no        yes          0"
      ]
     },
     "execution_count": 2,
     "metadata": {},
     "output_type": "execute_result"
    }
   ],
   "source": [
    "import pandas as pd\n",
    "df = pd.read_csv('./data/redesign.csv')\n",
    "df.head()"
   ]
  },
  {
   "cell_type": "markdown",
   "id": "3bef7acb-5b00-4282-8c3e-1aa34bf4b7df",
   "metadata": {},
   "source": [
    "First let's check the number of test for each group of page design."
   ]
  },
  {
   "cell_type": "code",
   "execution_count": 3,
   "id": "61d09a65-7a7f-43de-951b-decb042f5bd0",
   "metadata": {},
   "outputs": [
    {
     "data": {
      "text/plain": [
       "treatment  new_images\n",
       "no         no            10121\n",
       "           yes           10121\n",
       "yes        no            10121\n",
       "           yes           10121\n",
       "Name: converted, dtype: int64"
      ]
     },
     "execution_count": 3,
     "metadata": {},
     "output_type": "execute_result"
    }
   ],
   "source": [
    "df.groupby(['treatment', 'new_images'])['converted'].count()"
   ]
  },
  {
   "cell_type": "markdown",
   "id": "5a9dae57-6e3a-40cf-87eb-5ec78e608db4",
   "metadata": {},
   "source": [
    "It looks good. For each group we have the same number of tests measured and number of over 10 000 for each should be enough to say that scores are practically significant.\n",
    "\n",
    "### Conversion rate.\n",
    "Now I can calculate the conversion rate for each group. "
   ]
  },
  {
   "cell_type": "code",
   "execution_count": 4,
   "id": "34c82ae1-6a89-4089-a1a8-d700790928bd",
   "metadata": {},
   "outputs": [
    {
     "data": {
      "text/html": [
       "<div>\n",
       "<style scoped>\n",
       "    .dataframe tbody tr th:only-of-type {\n",
       "        vertical-align: middle;\n",
       "    }\n",
       "\n",
       "    .dataframe tbody tr th {\n",
       "        vertical-align: top;\n",
       "    }\n",
       "\n",
       "    .dataframe thead th {\n",
       "        text-align: right;\n",
       "    }\n",
       "</style>\n",
       "<table border=\"1\" class=\"dataframe\">\n",
       "  <thead>\n",
       "    <tr style=\"text-align: right;\">\n",
       "      <th></th>\n",
       "      <th></th>\n",
       "      <th></th>\n",
       "      <th>conversion rate [%]</th>\n",
       "    </tr>\n",
       "    <tr>\n",
       "      <th>treatment</th>\n",
       "      <th>new_images</th>\n",
       "      <th>converted</th>\n",
       "      <th></th>\n",
       "    </tr>\n",
       "  </thead>\n",
       "  <tbody>\n",
       "    <tr>\n",
       "      <th rowspan=\"2\" valign=\"top\">no</th>\n",
       "      <th>no</th>\n",
       "      <th>1</th>\n",
       "      <td>10.71</td>\n",
       "    </tr>\n",
       "    <tr>\n",
       "      <th>yes</th>\n",
       "      <th>1</th>\n",
       "      <td>11.25</td>\n",
       "    </tr>\n",
       "    <tr>\n",
       "      <th rowspan=\"2\" valign=\"top\">yes</th>\n",
       "      <th>yes</th>\n",
       "      <th>1</th>\n",
       "      <td>11.37</td>\n",
       "    </tr>\n",
       "    <tr>\n",
       "      <th>no</th>\n",
       "      <th>1</th>\n",
       "      <td>12.00</td>\n",
       "    </tr>\n",
       "  </tbody>\n",
       "</table>\n",
       "</div>"
      ],
      "text/plain": [
       "                                conversion rate [%]\n",
       "treatment new_images converted                     \n",
       "no        no         1                        10.71\n",
       "          yes        1                        11.25\n",
       "yes       yes        1                        11.37\n",
       "          no         1                        12.00"
      ]
     },
     "execution_count": 4,
     "metadata": {},
     "output_type": "execute_result"
    }
   ],
   "source": [
    "cr = df.groupby(['treatment', 'new_images'])['converted'].value_counts(normalize=True).sort_values().head(4).to_frame()\n",
    "cr = round(cr*100, 2)\n",
    "cr.columns=['conversion rate [%]']\n",
    "cr"
   ]
  },
  {
   "cell_type": "code",
   "execution_count": 5,
   "id": "76deb57f-23ea-41ae-a952-9bfef4c3d317",
   "metadata": {},
   "outputs": [
    {
     "data": {
      "image/png": "[encoded data removed]",
      "text/plain": [
       "<Figure size 432x288 with 1 Axes>"
      ]
     },
     "metadata": {
      "needs_background": "light"
     },
     "output_type": "display_data"
    }
   ],
   "source": [
    "cr = cr.reset_index(level=2, drop=True)\n",
    "cr.plot(kind='bar', legend=False, title='Conversion rate').set(ylabel='conversion rate %');"
   ]
  },
  {
   "cell_type": "markdown",
   "id": "71e0e55c-b4c4-447f-aa6c-6bc60a7b9e43",
   "metadata": {},
   "source": [
    "<b> Conversion rate increase.</b><br>\n",
    "According to data from tests we can see that each change on the page leads to higher conversion rate. The best score is for new treatment with old images.\n",
    "\n",
    "<b> T-test</b><br>\n",
    "Now I can check if those results are statistically significant.<br>\n",
    "For that I will run t-test for each group with changes to website against control group. \n",
    "\n",
    "The t test tells you how significant the differences between groups are (it lets you know if those differences (measured in means) could have happened by chance).<br> \n",
    "Every t-value has a p-value to go with it. A p-value is the probability that the results from your sample data occurred by chance. P-values less than 5% (0.05) indicate that the data did not occur by chance."
   ]
  },
  {
   "cell_type": "code",
   "execution_count": 13,
   "id": "e367cc36-73dd-44f5-997d-910c15570b19",
   "metadata": {},
   "outputs": [
    {
     "name": "stdout",
     "output_type": "stream",
     "text": [
      "P-value for OLD treatment; NEW images: 0.21633455200827426\n"
     ]
    }
   ],
   "source": [
    "from scipy.stats import ttest_ind\n",
    "control = df[(df['treatment']=='no') & (df['new_images']=='no')]['converted']\n",
    "no_yes = df[(df['treatment']=='no') & (df['new_images']=='yes')]['converted']\n",
    "yes_yes = df[(df['treatment']=='yes') & (df['new_images']=='yes')]['converted']\n",
    "yes_no = df[(df['treatment']=='yes') & (df['new_images']=='no')]['converted']\n",
    "print('P-value for OLD treatment; NEW images: {}'.format(ttest_ind(control, no_yes)[1]))"
   ]
  },
  {
   "cell_type": "code",
   "execution_count": 11,
   "id": "ee5a1137-1f1e-4e7c-93d8-15b7d5174850",
   "metadata": {},
   "outputs": [
    {
     "name": "stdout",
     "output_type": "stream",
     "text": [
      "P-value for NEW treatment; NEW images: 0.1329565317146\n"
     ]
    }
   ],
   "source": [
    "print('P-value for NEW treatment; NEW images: {}'.format(ttest_ind(control, yes_yes)[1]))"
   ]
  },
  {
   "cell_type": "code",
   "execution_count": 12,
   "id": "da76abc6-41da-4e69-bb98-b6a655506a97",
   "metadata": {},
   "outputs": [
    {
     "name": "stdout",
     "output_type": "stream",
     "text": [
      "P-value for NEW treatment; OLD images: 0.0037077320206196714\n"
     ]
    }
   ],
   "source": [
    "print('P-value for NEW treatment; OLD images: {}'.format(ttest_ind(control, yes_no)[1]))"
   ]
  },
  {
   "cell_type": "markdown",
   "id": "41593ad8-0caa-4802-9e02-2d321241afdf",
   "metadata": {},
   "source": [
    "We can see  that only for redesign with <b>new treatment</b> of page and <b>old images</b>, p-value is smaller than 0.05, which indicates this is <b>statistically significant</b>.<br>\n"
   ]
  }
 ],
 "metadata": {
  "kernelspec": {
   "display_name": "Python 3 (ipykernel)",
   "language": "python",
   "name": "python3"
  },
  "language_info": {
   "codemirror_mode": {
    "name": "ipython",
    "version": 3
   },
   "file_extension": ".py",
   "mimetype": "text/x-python",
   "name": "python",
   "nbconvert_exporter": "python",
   "pygments_lexer": "ipython3",
   "version": "3.8.10"
  }
 },
 "nbformat": 4,
 "nbformat_minor": 5
}
